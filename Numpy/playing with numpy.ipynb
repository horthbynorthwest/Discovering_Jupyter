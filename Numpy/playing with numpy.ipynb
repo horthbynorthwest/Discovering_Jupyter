{
 "cells": [
  {
   "cell_type": "code",
   "execution_count": 1,
   "id": "fantastic-manufacturer",
   "metadata": {},
   "outputs": [],
   "source": [
    "import numpy\n",
    "n = numpy.arange(27)"
   ]
  },
  {
   "cell_type": "code",
   "execution_count": 2,
   "id": "fantastic-dinner",
   "metadata": {},
   "outputs": [
    {
     "data": {
      "text/plain": [
       "array([ 0,  1,  2,  3,  4,  5,  6,  7,  8,  9, 10, 11, 12, 13, 14, 15, 16,\n",
       "       17, 18, 19, 20, 21, 22, 23, 24, 25, 26])"
      ]
     },
     "execution_count": 2,
     "metadata": {},
     "output_type": "execute_result"
    }
   ],
   "source": [
    "n"
   ]
  },
  {
   "cell_type": "code",
   "execution_count": 4,
   "id": "ancient-sheriff",
   "metadata": {},
   "outputs": [
    {
     "data": {
      "text/plain": [
       "array([ 0,  1,  2,  3,  4,  5,  6,  7,  8,  9, 10, 11, 12, 13, 14, 15, 16,\n",
       "       17, 18, 19, 20, 21, 22, 23, 24, 25, 26])"
      ]
     },
     "execution_count": 4,
     "metadata": {},
     "output_type": "execute_result"
    }
   ],
   "source": [
    "n.reshape(3,9)\n",
    "n"
   ]
  },
  {
   "cell_type": "code",
   "execution_count": 5,
   "id": "suited-registrar",
   "metadata": {},
   "outputs": [
    {
     "data": {
      "text/plain": [
       "array([[ 0,  1,  2,  3,  4,  5,  6,  7,  8],\n",
       "       [ 9, 10, 11, 12, 13, 14, 15, 16, 17],\n",
       "       [18, 19, 20, 21, 22, 23, 24, 25, 26]])"
      ]
     },
     "execution_count": 5,
     "metadata": {},
     "output_type": "execute_result"
    }
   ],
   "source": [
    "n = n.reshape(3,9)\n",
    "n"
   ]
  },
  {
   "cell_type": "code",
   "execution_count": 6,
   "id": "hollywood-library",
   "metadata": {},
   "outputs": [
    {
     "data": {
      "text/plain": [
       "array([[[ 0,  1,  2],\n",
       "        [ 3,  4,  5],\n",
       "        [ 6,  7,  8]],\n",
       "\n",
       "       [[ 9, 10, 11],\n",
       "        [12, 13, 14],\n",
       "        [15, 16, 17]],\n",
       "\n",
       "       [[18, 19, 20],\n",
       "        [21, 22, 23],\n",
       "        [24, 25, 26]]])"
      ]
     },
     "execution_count": 6,
     "metadata": {},
     "output_type": "execute_result"
    }
   ],
   "source": [
    "n.reshape(3,3,3)"
   ]
  },
  {
   "cell_type": "code",
   "execution_count": 7,
   "id": "unauthorized-cloud",
   "metadata": {},
   "outputs": [],
   "source": [
    "import cv2"
   ]
  },
  {
   "cell_type": "code",
   "execution_count": 10,
   "id": "continuing-average",
   "metadata": {},
   "outputs": [
    {
     "data": {
      "text/plain": [
       "array([[187, 158, 104, 121, 143],\n",
       "       [198, 125, 255, 255, 147],\n",
       "       [209, 134, 255,  97, 182]], dtype=uint8)"
      ]
     },
     "execution_count": 10,
     "metadata": {},
     "output_type": "execute_result"
    }
   ],
   "source": [
    "im_g = cv2.imread(\"smallgray.png\",0)\n",
    "# this converts the image into a numpy array. The 0 indicates to read it in greyscale.\n",
    "# 1 would have the image read in rbg colour scales.\n",
    "im_g\n",
    "# a grayscale numpy array will be a 2 dimensional array\n",
    "# in this case it's 3 x 5. Each number represents a pixel in it's specific coordinates.\n"
   ]
  },
  {
   "cell_type": "code",
   "execution_count": 11,
   "id": "defensive-terrace",
   "metadata": {},
   "outputs": [
    {
     "data": {
      "text/plain": [
       "array([[[187, 187, 187],\n",
       "        [158, 158, 158],\n",
       "        [104, 104, 104],\n",
       "        [121, 121, 121],\n",
       "        [143, 143, 143]],\n",
       "\n",
       "       [[198, 198, 198],\n",
       "        [125, 125, 125],\n",
       "        [255, 255, 255],\n",
       "        [255, 255, 255],\n",
       "        [147, 147, 147]],\n",
       "\n",
       "       [[209, 209, 209],\n",
       "        [134, 134, 134],\n",
       "        [255, 255, 255],\n",
       "        [ 97,  97,  97],\n",
       "        [182, 182, 182]]], dtype=uint8)"
      ]
     },
     "execution_count": 11,
     "metadata": {},
     "output_type": "execute_result"
    }
   ],
   "source": [
    "im_g_c = cv2.imread(\"smallgray.png\",1)\n",
    "# A colour numpy array will be a 3 dimensional array which relates to the blue layer, green layer and red layers.\n",
    "# Each pixel is a mixture of of all three layers\n",
    "im_g_c\n",
    "# this array has been transposed. it's the same image as above but each array is now 5 x 3 not 3 x 5. \n",
    "# each pixel has a 3 individual colour values. \n",
    "# The pixels coordinates depict which value in each array to look at to get the bgr value"
   ]
  },
  {
   "cell_type": "code",
   "execution_count": 12,
   "id": "republican-projector",
   "metadata": {},
   "outputs": [
    {
     "data": {
      "text/plain": [
       "True"
      ]
     },
     "execution_count": 12,
     "metadata": {},
     "output_type": "execute_result"
    }
   ],
   "source": [
    "# to convert a numpy array to an image we need to use the \n",
    "cv2.imwrite(\"newsmallgray.png\", im_g_c)\n",
    "# we pass in the desired name of the new image and the numpy array we wish to create\n",
    "# if we get True back then the image should've been created."
   ]
  },
  {
   "cell_type": "code",
   "execution_count": null,
   "id": "closing-footage",
   "metadata": {},
   "outputs": [],
   "source": []
  }
 ],
 "metadata": {
  "kernelspec": {
   "display_name": "Python 3",
   "language": "python",
   "name": "python3"
  },
  "language_info": {
   "codemirror_mode": {
    "name": "ipython",
    "version": 3
   },
   "file_extension": ".py",
   "mimetype": "text/x-python",
   "name": "python",
   "nbconvert_exporter": "python",
   "pygments_lexer": "ipython3",
   "version": "3.9.1"
  }
 },
 "nbformat": 4,
 "nbformat_minor": 5
}
